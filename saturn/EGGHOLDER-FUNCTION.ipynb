{
 "cells": [
  {
   "cell_type": "code",
   "execution_count": 4,
   "id": "29e45372",
   "metadata": {},
   "outputs": [],
   "source": [
    "import numpy as np\n",
    "import matplotlib.pyplot as plt"
   ]
  },
  {
   "cell_type": "code",
   "execution_count": 5,
   "id": "035d9ec9",
   "metadata": {},
   "outputs": [],
   "source": [
    "def eggholder(x,y):\n",
    "    return -(y+47)*np.sin(np.sqrt(np.absolute(x/2+(y+47))))-x*np.sin(np.sqrt(np.absolute(x-(y+47))))"
   ]
  },
  {
   "cell_type": "code",
   "execution_count": 7,
   "id": "7dd4c720",
   "metadata": {},
   "outputs": [
    {
     "data": {
      "text/plain": [
       "'\\nMINIMUM AT X=512,Y=404.2319\\nVALUE = -959.6407\\n'"
      ]
     },
     "execution_count": 7,
     "metadata": {},
     "output_type": "execute_result"
    }
   ],
   "source": [
    "'''\n",
    "MINIMUM AT X=512,Y=404.2319\n",
    "VALUE = -959.6407\n",
    "\n",
    "'''"
   ]
  },
  {
   "cell_type": "code",
   "execution_count": 8,
   "id": "425030d2",
   "metadata": {},
   "outputs": [],
   "source": [
    "BOUND_LOW,BOUND_UP=-512.0,512.0"
   ]
  },
  {
   "cell_type": "code",
   "execution_count": 9,
   "id": "b381bcd2",
   "metadata": {},
   "outputs": [],
   "source": [
    "def fitness(individual):\n",
    "    return eggholder(individual[0],individual[1])"
   ]
  },
  {
   "cell_type": "code",
   "execution_count": 10,
   "id": "dc6cae1f",
   "metadata": {},
   "outputs": [
    {
     "data": {
      "text/plain": [
       "'\\nTOURNAMENTSIZE=2\\nELITISM\\nCxSimuatedBinaryBounded\\nmutPolynomialBounded\\n'"
      ]
     },
     "execution_count": 10,
     "metadata": {},
     "output_type": "execute_result"
    }
   ],
   "source": [
    "'''\n",
    "TOURNAMENTSIZE=2\n",
    "ELITISM\n",
    "CxSimuatedBinaryBounded\n",
    "mutPolynomialBounded\n",
    "'''"
   ]
  },
  {
   "cell_type": "code",
   "execution_count": 11,
   "id": "861b833d",
   "metadata": {},
   "outputs": [
    {
     "data": {
      "text/plain": [
       "'\\nPOPULATION_SIZE=300\\nP_CROSSOVER=0.9\\nP_MUTATION=0.1\\nMAX_GENERATIONS=300\\nHALL_OF_FAME=30\\n'"
      ]
     },
     "execution_count": 11,
     "metadata": {},
     "output_type": "execute_result"
    }
   ],
   "source": [
    "'''\n",
    "POPULATION_SIZE=300\n",
    "P_CROSSOVER=0.9\n",
    "P_MUTATION=0.1\n",
    "MAX_GENERATIONS=300\n",
    "HALL_OF_FAME=30\n",
    "'''"
   ]
  },
  {
   "cell_type": "code",
   "execution_count": null,
   "id": "33053514",
   "metadata": {},
   "outputs": [],
   "source": [
    "'''\n",
    "CROWDING_FACTOR=20.0\n",
    "\n",
    "'''"
   ]
  }
 ],
 "metadata": {
  "kernelspec": {
   "display_name": "Python 3 (ipykernel)",
   "language": "python",
   "name": "python3"
  },
  "language_info": {
   "codemirror_mode": {
    "name": "ipython",
    "version": 3
   },
   "file_extension": ".py",
   "mimetype": "text/x-python",
   "name": "python",
   "nbconvert_exporter": "python",
   "pygments_lexer": "ipython3",
   "version": "3.9.16"
  }
 },
 "nbformat": 4,
 "nbformat_minor": 5
}
