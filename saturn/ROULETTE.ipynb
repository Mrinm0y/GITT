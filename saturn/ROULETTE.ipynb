{
 "cells": [
  {
   "cell_type": "code",
   "execution_count": 17,
   "id": "fa3212f1",
   "metadata": {},
   "outputs": [],
   "source": [
    "import numpy as np\n",
    "import matplotlib.pyplot as plt"
   ]
  },
  {
   "cell_type": "code",
   "execution_count": 18,
   "id": "c497c6f1",
   "metadata": {},
   "outputs": [],
   "source": [
    "scores = [5,10,15,35,40,60,100]"
   ]
  },
  {
   "cell_type": "code",
   "execution_count": 19,
   "id": "1859ba15",
   "metadata": {},
   "outputs": [],
   "source": [
    "class Roulette:\n",
    "    def __init__(self,scores):\n",
    "        if type(scores) != np.ndarray:\n",
    "            scores = np.array(scores)\n",
    "        total = np.sum(scores)\n",
    "        self.probs = scores/total \n",
    "    def spin(self):\n",
    "        return np.random.choice(len(self.probs), 1,p = self.probs)[0]\n",
    "    def generate_population(self):\n",
    "        return np.random.choice(len(self.probs),len(self.probs),p = self.probs)"
   ]
  },
  {
   "cell_type": "code",
   "execution_count": 20,
   "id": "be65bafc",
   "metadata": {},
   "outputs": [],
   "source": [
    "r = Roulette(scores)"
   ]
  },
  {
   "cell_type": "code",
   "execution_count": 21,
   "id": "817b8a87",
   "metadata": {},
   "outputs": [],
   "source": [
    "print(r.spin())"
   ]
  },
  {
   "cell_type": "code",
   "execution_count": 22,
   "id": "43b2d662",
   "metadata": {},
   "outputs": [],
   "source": [
    "r.generate_population()"
   ]
  },
  {
   "cell_type": "code",
   "execution_count": 23,
   "id": "80c23565",
   "metadata": {},
   "outputs": [],
   "source": [
    "r.generate_population()"
   ]
  },
  {
   "cell_type": "code",
   "execution_count": 24,
   "id": "7add6d44",
   "metadata": {},
   "outputs": [],
   "source": [
    "r.generate_population()"
   ]
  }
 ],
 "metadata": {
  "kernelspec": {
   "display_name": "Python 3 (ipykernel)",
   "language": "python",
   "name": "python3"
  },
  "language_info": {
   "codemirror_mode": {
    "name": "ipython",
    "version": 3
   },
   "file_extension": ".py",
   "mimetype": "text/x-python",
   "name": "python",
   "nbconvert_exporter": "python",
   "pygments_lexer": "ipython3",
   "version": "3.9.16"
  }
 },
 "nbformat": 4,
 "nbformat_minor": 5
}
