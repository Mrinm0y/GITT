{
 "cells": [
  {
   "cell_type": "code",
   "execution_count": 66,
   "id": "b3a54048",
   "metadata": {},
   "outputs": [],
   "source": [
    "import numpy as np\n",
    "import matplotlib.pyplot as plt"
   ]
  },
  {
   "cell_type": "code",
   "execution_count": 67,
   "id": "e108ba64",
   "metadata": {},
   "outputs": [],
   "source": [
    "scores = np.array([55,20,21,100,22,40,50,70])"
   ]
  },
  {
   "cell_type": "code",
   "execution_count": 68,
   "id": "e7d018d7",
   "metadata": {},
   "outputs": [],
   "source": [
    "class RankSelection:\n",
    "    def __init__(self,scores):\n",
    "        if type(scores) != np.ndarray:\n",
    "            scores = np.array(scores)\n",
    "        posx = np.argsort(scores)\n",
    "        rank = np.arange(len(scores))\n",
    "        for i in range(len(scores)):\n",
    "            pos = posx[i]\n",
    "            rank[pos] = i+1\n",
    "        ranksum = (len(scores)*(len(scores)+1))/2\n",
    "        self.probs = rank/ranksum\n",
    "    def get(self):\n",
    "        return np.random.choice(len(self.probs),1,p = self.probs)[0]\n",
    "    def generate_population(self):\n",
    "        return np.random.choice(len(self.probs),len(self.probs),p = self.probs)"
   ]
  },
  {
   "cell_type": "code",
   "execution_count": 69,
   "id": "5d3d9d70",
   "metadata": {},
   "outputs": [
    {
     "data": {
      "text/plain": [
       "array([7, 4, 3, 0, 6, 7, 4, 5])"
      ]
     },
     "execution_count": 69,
     "metadata": {},
     "output_type": "execute_result"
    }
   ],
   "source": [
    "RankSelection(scores).generate_population()"
   ]
  },
  {
   "cell_type": "code",
   "execution_count": 70,
   "id": "6c8f399b",
   "metadata": {},
   "outputs": [
    {
     "data": {
      "text/plain": [
       "4"
      ]
     },
     "execution_count": 70,
     "metadata": {},
     "output_type": "execute_result"
    }
   ],
   "source": [
    "RankSelection(scores).get()"
   ]
  }
 ],
 "metadata": {
  "kernelspec": {
   "display_name": "Python 3 (ipykernel)",
   "language": "python",
   "name": "python3"
  },
  "language_info": {
   "codemirror_mode": {
    "name": "ipython",
    "version": 3
   },
   "file_extension": ".py",
   "mimetype": "text/x-python",
   "name": "python",
   "nbconvert_exporter": "python",
   "pygments_lexer": "ipython3",
   "version": "3.9.16"
  }
 },
 "nbformat": 4,
 "nbformat_minor": 5
}
