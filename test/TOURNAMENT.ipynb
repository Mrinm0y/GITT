{
 "cells": [
  {
   "cell_type": "code",
   "execution_count": 5,
   "id": "15f5b262",
   "metadata": {},
   "outputs": [],
   "source": [
    "import numpy as np\n",
    "import matplotlib.pyplot as plt"
   ]
  },
  {
   "cell_type": "code",
   "execution_count": 6,
   "id": "d78692f0",
   "metadata": {},
   "outputs": [],
   "source": [
    "scores = [50,10,5,60,100,80,25,30,5,40]"
   ]
  },
  {
   "cell_type": "code",
   "execution_count": 7,
   "id": "c78c7e4f",
   "metadata": {},
   "outputs": [],
   "source": [
    "class Tournament:\n",
    "    def __init__(self,scores,k):\n",
    "        if type(scores) != np.ndarray:\n",
    "            self.scores = np.array(scores);\n",
    "        self.k = k\n",
    "    def generate_individual(self,**kwargs):\n",
    "        k = self.k\n",
    "        if 'k' in kwargs:\n",
    "            k = kwargs['k']\n",
    "        indivs = np.random.choice(len(self.scores),k)\n",
    "        indiv = np.argmax(np.take(scores,indivs))\n",
    "        return indiv\n",
    "    def generate_population(self,**kwargs):\n",
    "        kk = self.k\n",
    "        if 'k' in kwargs:\n",
    "            kk = kwargs['k']\n",
    "        indivs = np.array([self.generate_individual(k=kk) for _ in range(len(self.scores))])\n",
    "        return indivs\n",
    "        "
   ]
  },
  {
   "cell_type": "code",
   "execution_count": 8,
   "id": "7a3e252a",
   "metadata": {},
   "outputs": [
    {
     "data": {
      "text/plain": [
       "array([2, 2, 0, 1, 1, 1, 1, 1, 1, 0], dtype=int64)"
      ]
     },
     "execution_count": 8,
     "metadata": {},
     "output_type": "execute_result"
    }
   ],
   "source": [
    "Tournament(scores,3).generate_population()"
   ]
  }
 ],
 "metadata": {
  "kernelspec": {
   "display_name": "Python 3 (ipykernel)",
   "language": "python",
   "name": "python3"
  },
  "language_info": {
   "codemirror_mode": {
    "name": "ipython",
    "version": 3
   },
   "file_extension": ".py",
   "mimetype": "text/x-python",
   "name": "python",
   "nbconvert_exporter": "python",
   "pygments_lexer": "ipython3",
   "version": "3.9.16"
  }
 },
 "nbformat": 4,
 "nbformat_minor": 5
}
